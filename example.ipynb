{
 "cells": [
  {
   "cell_type": "code",
   "execution_count": 13,
   "metadata": {},
   "outputs": [],
   "source": [
    "import torch\n",
    "import torch.nn.functional as F\n",
    "import os\n",
    "import pandas as pd\n",
    "import numpy as np\n",
    "import warnings\n",
    "import collections\n",
    "from dataloader.dataloader import data_generator\n",
    "from algorithms.RAINCOAT import RAINCOAT\n",
    "from sklearn.metrics import f1_score, accuracy_score"
   ]
  },
  {
   "attachments": {},
   "cell_type": "markdown",
   "metadata": {},
   "source": [
    "### Dataset loading configurations"
   ]
  },
  {
   "cell_type": "code",
   "execution_count": 14,
   "metadata": {},
   "outputs": [],
   "source": [
    "class WISDM_config():\n",
    "    def __init__(self):\n",
    "        super(WISDM_config, self)\n",
    "        self.class_names = ['walk', 'jog', 'sit', 'stand', 'upstairs', 'downstairs']\n",
    "        self.sequence_len = 128\n",
    "        # Closed Set DA\n",
    "        self.scenarios = [(\"2\", \"32\"), (\"4\", \"15\"),(\"7\", \"30\"),('12','7'), ('12','19'),('18','20'),\\\n",
    "                          ('20','30'), (\"21\", \"31\"),(\"25\", \"29\"), ('26','2')]\n",
    "\n",
    "        self.num_classes = 6\n",
    "        self.shuffle = True\n",
    "        self.drop_last = False\n",
    "        self.normalize = True\n",
    "\n",
    "        # model configs\n",
    "        self.input_channels = 3\n",
    "        self.kernel_size = 5\n",
    "        self.stride = 1\n",
    "        self.dropout = 0.5\n",
    "        self.num_classes = 6\n",
    "        self.width = 64  # for FNN\n",
    "        self.fourier_modes = 64\n",
    "        # features\n",
    "        self.mid_channels = 64\n",
    "        self.final_out_channels = 128\n",
    "        self.out_dim = 192\n",
    "        self.features_len = 1\n",
    "\n",
    "\n",
    "data_path = './data/WISDM'\n",
    "src_id = '2'\n",
    "trg_id = '32'\n",
    "dataset_configs = WISDM_config()\n",
    "hparams = {\"batch_size\":64, 'learning_rate':1e-3,'weight_decay': 1e-4,'num_epochs': 100}"
   ]
  },
  {
   "attachments": {},
   "cell_type": "markdown",
   "metadata": {},
   "source": [
    "### Load Dataset"
   ]
  },
  {
   "cell_type": "code",
   "execution_count": 15,
   "metadata": {},
   "outputs": [],
   "source": [
    "src_train_dl, src_test_dl = data_generator(data_path, src_id,dataset_configs, hparams)\n",
    "trg_train_dl, trg_test_dl = data_generator(data_path, trg_id, dataset_configs,hparams)"
   ]
  },
  {
   "cell_type": "code",
   "execution_count": 16,
   "metadata": {},
   "outputs": [],
   "source": [
    "def eval(algorithm, loader, final=False):\n",
    "    device = 'cuda'\n",
    "    feature_extractor = algorithm.feature_extractor.to(device)\n",
    "    classifier = algorithm.classifier.to(device)\n",
    "    if final == True:\n",
    "        feature_extractor.load_state_dict(torch.load('backbone.pth'))\n",
    "        classifier.load_state_dict(torch.load('classifier.pth'))\n",
    "    feature_extractor.eval()\n",
    "    classifier.eval()\n",
    "    trg_pred_labels = np.array([])\n",
    "    trg_true_labels = np.array([])\n",
    "    with torch.no_grad():\n",
    "        for data, labels in loader:\n",
    "            data = data.float().to(device)\n",
    "            labels = labels.view((-1)).long().to(device)\n",
    "            features,_ = feature_extractor(data)\n",
    "            predictions = classifier(features)\n",
    "\n",
    "            pred = predictions.detach().argmax(dim=1)  # get the index of the max log-probability\n",
    "\n",
    "            trg_pred_labels = np.append(trg_pred_labels, pred.cpu().numpy())\n",
    "            trg_true_labels = np.append(trg_true_labels, labels.data.cpu().numpy())\n",
    "    accuracy = accuracy_score(trg_true_labels, trg_pred_labels)\n",
    "    f1 = f1_score(trg_pred_labels, trg_true_labels, pos_label=None, average=\"macro\")\n",
    "    return accuracy*100, f1"
   ]
  },
  {
   "cell_type": "code",
   "execution_count": 17,
   "metadata": {},
   "outputs": [
    {
     "name": "stdout",
     "output_type": "stream",
     "text": [
      "Epoch 0: Validation Accuracy on Source Test is 25.78125\n",
      "Epoch 10: Validation Accuracy on Source Test is 57.8125\n",
      "Epoch 20: Validation Accuracy on Source Test is 68.75\n",
      "Epoch 30: Validation Accuracy on Source Test is 86.71875\n",
      "Epoch 40: Validation Accuracy on Source Test is 93.75\n",
      "Epoch 50: Validation Accuracy on Source Test is 100.0\n",
      "Epoch 60: Validation Accuracy on Source Test is 100.0\n",
      "Epoch 70: Validation Accuracy on Source Test is 100.0\n",
      "Epoch 80: Validation Accuracy on Source Test is 100.0\n",
      "Epoch 90: Validation Accuracy on Source Test is 100.0\n",
      "Target Accuracy before correction:72.46376811594203, Target F1:0.5899758454106281\n",
      "Epoch 0: Validation Accuracy on Source Test is 100.0\n",
      "Target Accuracy after correction:78.125, Target F1:0.7123949579831933\n"
     ]
    }
   ],
   "source": [
    "\n",
    "device = 'cuda'\n",
    "algorithm = RAINCOAT(dataset_configs, hparams,device)\n",
    "algorithm.to(device)\n",
    "best_f1 = 0\n",
    "for i in range(hparams['num_epochs']):\n",
    "    joint_loaders = enumerate(zip(src_train_dl, trg_train_dl))\n",
    "    for step, ((src_x, src_y), (trg_x, _)) in joint_loaders:\n",
    "        src_x, src_y, trg_x = src_x.float().to(device), src_y.long().to(device), \\\n",
    "                                trg_x.float().to(device)\n",
    "        losses = algorithm.update(src_x, src_y, trg_x)\n",
    "\n",
    "    acc, f1 = eval(algorithm, src_train_dl)\n",
    "    if f1>=best_f1:\n",
    "        best_f1 = f1\n",
    "        torch.save(algorithm.feature_extractor.state_dict(), 'backbone.pth')\n",
    "        torch.save(algorithm.classifier.state_dict(), 'classifier.pth')\n",
    "    if i %10==0:\n",
    "        print(f'Epoch {i}: Validation Accuracy on Source Test is {acc}')\n",
    "\n",
    "tar_acc, tar_f1 = eval(algorithm, trg_test_dl,final=True)\n",
    "print(f'Target Accuracy before correction:{tar_acc}, Target F1:{tar_f1}')\n",
    "### Correction \n",
    "for i in range(10):\n",
    "    joint_loaders = enumerate(zip(src_train_dl, trg_train_dl))\n",
    "    for step, ((src_x, src_y), (trg_x, _)) in joint_loaders:\n",
    "        src_x, src_y, trg_x = src_x.float().to(device), src_y.long().to(device), \\\n",
    "                                trg_x.float().to(device)\n",
    "        losses = algorithm.correct(src_x, src_y, trg_x)\n",
    "\n",
    "    acc, f1 = eval(algorithm, src_train_dl)\n",
    "    if f1>=best_f1:\n",
    "        best_f1 = f1\n",
    "        torch.save(algorithm.feature_extractor.state_dict(), 'backbone.pth')\n",
    "        torch.save(algorithm.classifier.state_dict(), 'classifier.pth')\n",
    "    if i %10==0:\n",
    "        print(f'Epoch {i}: Validation Accuracy on Source Test is {acc}')\n",
    "tar_acc, tar_f1 = eval(algorithm, trg_train_dl,final=True)\n",
    "print(f'Target Accuracy after correction:{tar_acc}, Target F1:{tar_f1}')"
   ]
  }
 ],
 "metadata": {
  "kernelspec": {
   "display_name": "cuda116",
   "language": "python",
   "name": "python3"
  },
  "language_info": {
   "codemirror_mode": {
    "name": "ipython",
    "version": 3
   },
   "file_extension": ".py",
   "mimetype": "text/x-python",
   "name": "python",
   "nbconvert_exporter": "python",
   "pygments_lexer": "ipython3",
   "version": "3.7.15"
  },
  "orig_nbformat": 4
 },
 "nbformat": 4,
 "nbformat_minor": 2
}
